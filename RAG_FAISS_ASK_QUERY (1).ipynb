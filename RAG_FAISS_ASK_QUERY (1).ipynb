{
 "cells": [
  {
   "cell_type": "markdown",
   "id": "0dfa0c8e-b169-4816-beeb-cd7278810e8b",
   "metadata": {},
   "source": [
    "# Objective : Processing Document using RAG-FAISS"
   ]
  },
  {
   "cell_type": "markdown",
   "id": "26133008-1296-448f-93dc-461b71478c88",
   "metadata": {},
   "source": [
    "# Set up Environment"
   ]
  },
  {
   "cell_type": "code",
   "execution_count": 10,
   "id": "9f0b789f-13cf-4f99-9f10-3a0830d40406",
   "metadata": {},
   "outputs": [],
   "source": [
    "import os\n",
    "\n",
    "# Safely set the OpenAI API key\n",
    "os.environ[\"OPENAI_API_KEY\"] = \"ENTER_YOUR_API_KEY\"\n"
   ]
  },
  {
   "cell_type": "markdown",
   "id": "fefe9aec-9c16-4b8f-addc-3f0df831957a",
   "metadata": {},
   "source": [
    "# Creating a ChatPromptTemplate"
   ]
  },
  {
   "cell_type": "code",
   "execution_count": 12,
   "id": "c2e4bb9e-b8a6-4803-8bcc-2194e676e92d",
   "metadata": {},
   "outputs": [],
   "source": [
    "from langchain.prompts import ChatPromptTemplate\n",
    "\n",
    "def load_prompt():\n",
    "    prompt = \"\"\"You need to answer the question in the sentence as same as in the PDF content.\n",
    "    Given below is the context and question of the user.\n",
    "    context = {context}\n",
    "    question = {question}\n",
    "    If the answer is not in the pdf, answer: \"I do not know what the hell you are asking about\"\n",
    "    \"\"\"\n",
    "    return ChatPromptTemplate.from_template(prompt)\n"
   ]
  },
  {
   "cell_type": "markdown",
   "id": "52135fc2-c50b-47d1-992d-15d473f02c73",
   "metadata": {},
   "source": [
    "# Import Dependencies"
   ]
  },
  {
   "cell_type": "code",
   "execution_count": 14,
   "id": "28819ebc-8242-43e3-a870-38ff74d2516d",
   "metadata": {},
   "outputs": [],
   "source": [
    "from langchain_community.vectorstores import FAISS\n",
    "from langchain_openai import OpenAIEmbeddings\n",
    "\n",
    "def load_knowledgeBase():\n",
    "    embeddings = OpenAIEmbeddings(openai_api_key=os.environ[\"OPENAI_API_KEY\"])\n",
    "    DB_FAISS_PATH = './vectorstore'  # Use relative path if possible\n",
    "    db = FAISS.load_local(DB_FAISS_PATH, embeddings, allow_dangerous_deserialization=True)\n",
    "    return db\n"
   ]
  },
  {
   "cell_type": "code",
   "execution_count": 16,
   "id": "a284e9d9-7b12-486d-b894-356a414b1d46",
   "metadata": {},
   "outputs": [],
   "source": [
    "from langchain_openai import ChatOpenAI\n",
    "\n",
    "def load_llm():\n",
    "    return ChatOpenAI(openai_api_key=os.environ[\"OPENAI_API_KEY\"])\n"
   ]
  },
  {
   "cell_type": "code",
   "execution_count": 18,
   "id": "52a96e67-a21d-4c3f-8ae1-39f19781530d",
   "metadata": {},
   "outputs": [],
   "source": [
    "def format_docs(docs):\n",
    "    return \"\\n\\n\".join(doc.page_content for doc in docs)\n"
   ]
  },
  {
   "cell_type": "markdown",
   "id": "c0136d07-8b7d-495b-b617-808429a0ba67",
   "metadata": {},
   "source": [
    "# Performing Retrieval Augumented Generation pipeline with multiple queries"
   ]
  },
  {
   "cell_type": "code",
   "execution_count": 20,
   "id": "a5a46148-87f8-4471-ba9c-5827a9c95b16",
   "metadata": {},
   "outputs": [
    {
     "name": "stdout",
     "output_type": "stream",
     "text": [
      "🧠 Response:\n",
      " Krishna is described as the reservoir of pleasure and the primeval cause of everything. He is also known as Govinda, or one who gives pleasure to the senses.\n"
     ]
    }
   ],
   "source": [
    "from langchain_core.runnables import RunnablePassthrough\n",
    "from langchain_core.output_parsers import StrOutputParser\n",
    "\n",
    "# Load all components\n",
    "knowledgeBase = load_knowledgeBase()\n",
    "llm = load_llm()\n",
    "prompt = load_prompt()\n",
    "\n",
    "# Input query\n",
    "query = \"who is krishna\"\n",
    "\n",
    "# Step 1: Do similarity search\n",
    "similar_docs = knowledgeBase.similarity_search(query)\n",
    "\n",
    "# Step 2: Recreate a mini FAISS index from the matched docs\n",
    "embedding_model = OpenAIEmbeddings(openai_api_key=os.environ[\"OPENAI_API_KEY\"])\n",
    "mini_vectorstore = FAISS.from_documents(documents=similar_docs, embedding=embedding_model)\n",
    "retriever = mini_vectorstore.as_retriever()\n",
    "\n",
    "# Step 3: Build and run the chain\n",
    "rag_chain = (\n",
    "    {\"context\": retriever | format_docs, \"question\": RunnablePassthrough()}\n",
    "    | prompt\n",
    "    | llm\n",
    "    | StrOutputParser()\n",
    ")\n",
    "\n",
    "# Step 4: Get response\n",
    "response = rag_chain.invoke(query)\n",
    "\n",
    "# Output\n",
    "print(\"🧠 Response:\\n\", response)\n"
   ]
  },
  {
   "cell_type": "code",
   "execution_count": 24,
   "id": "2ba175b9-31ad-427b-84d0-588ad43d60b7",
   "metadata": {},
   "outputs": [
    {
     "data": {
      "text/plain": [
       "'Krishna is the reservoir of pleasure and the primeval cause of everything. He is described as sarva-kåra√a-kåra√am, the cause of all causes, and is also known as Govinda, or one who gives pleasure to the senses.'"
      ]
     },
     "execution_count": 24,
     "metadata": {},
     "output_type": "execute_result"
    }
   ],
   "source": [
    "query = \"who is krishna\"\n",
    "response = rag_chain.invoke(query)\n",
    "response"
   ]
  },
  {
   "cell_type": "code",
   "execution_count": 26,
   "id": "f588cdc8-5059-48d8-93e9-73b7086ba31d",
   "metadata": {},
   "outputs": [
    {
     "data": {
      "text/plain": [
       "'Krishna mainly depicts the reservoir of pleasure and the primeval cause of everything.'"
      ]
     },
     "execution_count": 26,
     "metadata": {},
     "output_type": "execute_result"
    }
   ],
   "source": [
    "query = \"what does krishna mainily dipicts?\"\n",
    "response = rag_chain.invoke(query)\n",
    "response"
   ]
  },
  {
   "cell_type": "code",
   "execution_count": 28,
   "id": "65ec9c72-61c5-4c32-9fc1-3b06b9418a36",
   "metadata": {},
   "outputs": [
    {
     "data": {
      "text/plain": [
       "'Arjuna is a character from the Hindu epic Mahabharata, who is the protagonist of the Bhagavad Gita.'"
      ]
     },
     "execution_count": 28,
     "metadata": {},
     "output_type": "execute_result"
    }
   ],
   "source": [
    "query = \"who is Arjuna\"\n",
    "response = rag_chain.invoke(query)\n",
    "response"
   ]
  }
 ],
 "metadata": {
  "kernelspec": {
   "display_name": "Python [conda env:base] *",
   "language": "python",
   "name": "conda-base-py"
  },
  "language_info": {
   "codemirror_mode": {
    "name": "ipython",
    "version": 3
   },
   "file_extension": ".py",
   "mimetype": "text/x-python",
   "name": "python",
   "nbconvert_exporter": "python",
   "pygments_lexer": "ipython3",
   "version": "3.12.7"
  }
 },
 "nbformat": 4,
 "nbformat_minor": 5
}
